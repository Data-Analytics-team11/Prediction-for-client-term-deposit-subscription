{
 "cells": [
  {
   "cell_type": "markdown",
   "metadata": {},
   "source": [
    "## Vidushi"
   ]
  },
  {
   "cell_type": "code",
   "execution_count": 687,
   "metadata": {},
   "outputs": [],
   "source": [
    "import numpy as np\n",
    "import pandas as pd\n",
    "import matplotlib.pyplot as plt\n",
    "import sklearn.metrics as metrics\n",
    "from sklearn import preprocessing\n",
    "from sklearn.tree import DecisionTreeClassifier\n",
    "from sklearn.ensemble import RandomForestClassifier,GradientBoostingClassifier\n",
    "from sklearn.model_selection import train_test_split,GridSearchCV\n",
    "from sklearn.metrics import classification_report,confusion_matrix,precision_score,recall_score,accuracy_score ,f1_score,r2_score,roc_curve,roc_auc_score,balanced_accuracy_score\n",
    "from sklearn.preprocessing import label_binarize\n",
    "from imblearn.over_sampling import SMOTE"
   ]
  },
  {
   "cell_type": "markdown",
   "metadata": {},
   "source": [
    "*Imbalanced Data* "
   ]
  },
  {
   "cell_type": "code",
   "execution_count": 534,
   "metadata": {},
   "outputs": [],
   "source": [
    "data = pd.read_csv('data/processedData.csv')"
   ]
  },
  {
   "cell_type": "code",
   "execution_count": 535,
   "metadata": {},
   "outputs": [],
   "source": [
    "data.y.replace(to_replace = ['yes','no'], value = [1,0],inplace = True)"
   ]
  },
  {
   "cell_type": "code",
   "execution_count": 536,
   "metadata": {},
   "outputs": [],
   "source": [
    "y=data['y']\n",
    "X=data.drop(columns=['y'])"
   ]
  },
  {
   "cell_type": "code",
   "execution_count": 537,
   "metadata": {},
   "outputs": [],
   "source": [
    "X_train, X_test, y_train, y_test = train_test_split(X, y, test_size=0.3,random_state=16)"
   ]
  },
  {
   "cell_type": "markdown",
   "metadata": {},
   "source": [
    "Smote Data"
   ]
  },
  {
   "cell_type": "code",
   "execution_count": 538,
   "metadata": {},
   "outputs": [],
   "source": [
    "sm = SMOTE(random_state=0)\n",
    "X_SMOTE, y_SMOTE = sm.fit_resample(X_train, y_train)"
   ]
  },
  {
   "cell_type": "markdown",
   "metadata": {},
   "source": [
    "# Decision Tree"
   ]
  },
  {
   "cell_type": "markdown",
   "metadata": {},
   "source": [
    "Decision Tree using Imbalanced Data"
   ]
  },
  {
   "cell_type": "code",
   "execution_count": 539,
   "metadata": {},
   "outputs": [],
   "source": [
    "tree = DecisionTreeClassifier()"
   ]
  },
  {
   "cell_type": "code",
   "execution_count": 540,
   "metadata": {},
   "outputs": [],
   "source": [
    "model_tree = tree.fit(X_train,y_train)"
   ]
  },
  {
   "cell_type": "code",
   "execution_count": 541,
   "metadata": {},
   "outputs": [],
   "source": [
    "y_pred_tree = model_tree.predict(X_test)"
   ]
  },
  {
   "cell_type": "code",
   "execution_count": 542,
   "metadata": {},
   "outputs": [
    {
     "name": "stdout",
     "output_type": "stream",
     "text": [
      "Accuracy: 73.87%\n"
     ]
    }
   ],
   "source": [
    "print(f\"Accuracy: {round(metrics.balanced_accuracy_score(y_test, y_pred_tree)*100,2)}%\")"
   ]
  },
  {
   "cell_type": "code",
   "execution_count": 543,
   "metadata": {},
   "outputs": [
    {
     "name": "stdout",
     "output_type": "stream",
     "text": [
      "              precision    recall  f1-score   support\n",
      "\n",
      "           0       0.94      0.93      0.94     10934\n",
      "           1       0.52      0.54      0.53      1423\n",
      "\n",
      "    accuracy                           0.89     12357\n",
      "   macro avg       0.73      0.74      0.73     12357\n",
      "weighted avg       0.89      0.89      0.89     12357\n",
      "\n"
     ]
    }
   ],
   "source": [
    "print(classification_report(y_test,y_pred_tree))"
   ]
  },
  {
   "cell_type": "code",
   "execution_count": 544,
   "metadata": {},
   "outputs": [
    {
     "name": "stdout",
     "output_type": "stream",
     "text": [
      "[[10207   727]\n",
      " [  649   774]]\n"
     ]
    }
   ],
   "source": [
    "print(confusion_matrix(y_test,y_pred_tree))"
   ]
  },
  {
   "cell_type": "markdown",
   "metadata": {},
   "source": [
    "*Decision Tree using SMOTE Data*"
   ]
  },
  {
   "cell_type": "code",
   "execution_count": 564,
   "metadata": {},
   "outputs": [],
   "source": [
    "smote_model = tree.fit(X_SMOTE,y_SMOTE)"
   ]
  },
  {
   "cell_type": "code",
   "execution_count": 565,
   "metadata": {},
   "outputs": [],
   "source": [
    "y_pred = smote_model.predict(X_test)"
   ]
  },
  {
   "cell_type": "code",
   "execution_count": 566,
   "metadata": {},
   "outputs": [
    {
     "name": "stdout",
     "output_type": "stream",
     "text": [
      "Accuracy: 72.46%\n"
     ]
    }
   ],
   "source": [
    "print(f\"Accuracy: {round(metrics.balanced_accuracy_score(y_test,y_pred)*100,2)}%\")"
   ]
  },
  {
   "cell_type": "code",
   "execution_count": 567,
   "metadata": {},
   "outputs": [
    {
     "name": "stdout",
     "output_type": "stream",
     "text": [
      "              precision    recall  f1-score   support\n",
      "\n",
      "           0       0.94      0.93      0.93     10934\n",
      "           1       0.48      0.52      0.50      1423\n",
      "\n",
      "    accuracy                           0.88     12357\n",
      "   macro avg       0.71      0.72      0.72     12357\n",
      "weighted avg       0.88      0.88      0.88     12357\n",
      "\n"
     ]
    }
   ],
   "source": [
    "print(classification_report(y_test,y_pred))"
   ]
  },
  {
   "cell_type": "markdown",
   "metadata": {},
   "source": [
    "*Optimization*"
   ]
  },
  {
   "cell_type": "code",
   "execution_count": 568,
   "metadata": {},
   "outputs": [],
   "source": [
    "param_grid = {'criterion': ['gini','entropy'],\n",
    "              'max_depth': [5,7,10,15,20],\n",
    "              'min_samples_leaf': [5, 10,15,20],\n",
    "              'max_leaf_nodes': [5, 10, 20]}\n",
    "grid = GridSearchCV(smote_model, param_grid, cv=4, scoring = 'balanced_accuracy')\n",
    "smote_best_param_tree = grid.fit(X_SMOTE,y_SMOTE)"
   ]
  },
  {
   "cell_type": "code",
   "execution_count": 569,
   "metadata": {},
   "outputs": [
    {
     "data": {
      "text/plain": [
       "{'criterion': 'entropy',\n",
       " 'max_depth': 7,\n",
       " 'max_leaf_nodes': 20,\n",
       " 'min_samples_leaf': 15}"
      ]
     },
     "execution_count": 569,
     "metadata": {},
     "output_type": "execute_result"
    }
   ],
   "source": [
    "smote_best_param_tree.best_params_"
   ]
  },
  {
   "cell_type": "code",
   "execution_count": 570,
   "metadata": {},
   "outputs": [],
   "source": [
    "smote_tree_tuned = DecisionTreeClassifier(criterion = 'entropy',max_depth = 7,max_leaf_nodes = 20,min_samples_leaf = 15)"
   ]
  },
  {
   "cell_type": "code",
   "execution_count": 571,
   "metadata": {},
   "outputs": [],
   "source": [
    "smote_model_tree_tuned = smote_tree_tuned.fit(X_SMOTE,y_SMOTE)"
   ]
  },
  {
   "cell_type": "code",
   "execution_count": 572,
   "metadata": {},
   "outputs": [],
   "source": [
    "smote_y_pred_tree_tuned = smote_model_tree_tuned.predict(X_test)"
   ]
  },
  {
   "cell_type": "code",
   "execution_count": 577,
   "metadata": {},
   "outputs": [
    {
     "name": "stdout",
     "output_type": "stream",
     "text": [
      "Accuracy: 87.98%\n"
     ]
    }
   ],
   "source": [
    "print(f\"Accuracy: {round(metrics.balanced_accuracy_score(y_test, smote_y_pred_tree_tuned)*100,2)}%\")"
   ]
  },
  {
   "cell_type": "code",
   "execution_count": 578,
   "metadata": {},
   "outputs": [
    {
     "name": "stdout",
     "output_type": "stream",
     "text": [
      "              precision    recall  f1-score   support\n",
      "\n",
      "           0       0.99      0.82      0.90     10934\n",
      "           1       0.41      0.94      0.57      1423\n",
      "\n",
      "    accuracy                           0.83     12357\n",
      "   macro avg       0.70      0.88      0.73     12357\n",
      "weighted avg       0.92      0.83      0.86     12357\n",
      "\n"
     ]
    }
   ],
   "source": [
    "print(classification_report(y_test,smote_y_pred_tree_tuned))"
   ]
  },
  {
   "cell_type": "markdown",
   "metadata": {},
   "source": [
    "# ROC "
   ]
  },
  {
   "cell_type": "code",
   "execution_count": 688,
   "metadata": {},
   "outputs": [
    {
     "name": "stdout",
     "output_type": "stream",
     "text": [
      "No Skill: ROC AUC=0.500\n",
      "Logistic: ROC AUC=0.933\n"
     ]
    },
    {
     "data": {
      "image/png": "[encoded data removed]",
      "text/plain": [
       "<Figure size 1152x576 with 1 Axes>"
      ]
     },
     "metadata": {
      "needs_background": "light"
     },
     "output_type": "display_data"
    }
   ],
   "source": [
    "# generate a no skill prediction (majority class)\n",
    "noskill_probs = [0 for _ in range(len(y_test))]\n",
    "\n",
    "# predict probabilities\n",
    "prob = smote_tree_tuned.predict_proba(X_test)\n",
    "# keep probabilities for the positive outcome only\n",
    "prob = prob[:, 1]\n",
    "# calculate scores\n",
    "noskill_auc = roc_auc_score(y_test, noskill_probs)\n",
    "auc = roc_auc_score(y_test, prob)\n",
    "# summarize scores\n",
    "print('No Skill: ROC AUC=%.3f' % (noskill_auc))\n",
    "print('Logistic: ROC AUC=%.3f' % (auc))\n",
    "# calculate roc curves\n",
    "noskill_fpr, noskill_tpr, _ = roc_curve(y_test, noskill_probs)\n",
    "fpr, tpr, _ = roc_curve(y_test, prob)\n",
    "# plot the roc curve for the model\n",
    "plt.figure(figsize=(16,8))\n",
    "plt.plot(noskill_fpr, noskill_tpr, linestyle='--', label='No Skill')\n",
    "plt.plot(fpr, tpr, marker='.', label='Logistic')\n",
    "# axis labels\n",
    "plt.xlabel('False Positive Rate')\n",
    "plt.ylabel('True Positive Rate')\n",
    "# show the legend\n",
    "plt.legend()\n",
    "# show the plot\n",
    "plt.show()"
   ]
  },
  {
   "cell_type": "code",
   "execution_count": null,
   "metadata": {},
   "outputs": [],
   "source": [
    "plt.figure(figsize = (50,40))\n",
    "tree.plot_tree(smote_tree_tuned,filled = True,feature_names=X.columns,class_names=['y = no','y = yes'])\n",
    "plt.show()"
   ]
  },
  {
   "cell_type": "markdown",
   "metadata": {},
   "source": [
    "# Random Forest"
   ]
  },
  {
   "cell_type": "markdown",
   "metadata": {},
   "source": [
    "Random Forest using Imbalanced Data"
   ]
  },
  {
   "cell_type": "code",
   "execution_count": 579,
   "metadata": {},
   "outputs": [],
   "source": [
    "forest = RandomForestClassifier()\n",
    "model_rf = forest.fit(X_train,y_train)\n",
    "y_pred_rf = model_rf.predict(X_test)"
   ]
  },
  {
   "cell_type": "code",
   "execution_count": 580,
   "metadata": {},
   "outputs": [
    {
     "name": "stdout",
     "output_type": "stream",
     "text": [
      "Accuracy: 71.82%\n"
     ]
    }
   ],
   "source": [
    "print(f\"Accuracy: {round(metrics.balanced_accuracy_score(y_test, y_pred_rf)*100,2)}%\")"
   ]
  },
  {
   "cell_type": "code",
   "execution_count": 581,
   "metadata": {},
   "outputs": [
    {
     "name": "stdout",
     "output_type": "stream",
     "text": [
      "              precision    recall  f1-score   support\n",
      "\n",
      "           0       0.93      0.97      0.95     10934\n",
      "           1       0.67      0.47      0.55      1423\n",
      "\n",
      "    accuracy                           0.91     12357\n",
      "   macro avg       0.80      0.72      0.75     12357\n",
      "weighted avg       0.90      0.91      0.91     12357\n",
      "\n"
     ]
    }
   ],
   "source": [
    "print(classification_report(y_test,y_pred_rf))"
   ]
  },
  {
   "cell_type": "markdown",
   "metadata": {},
   "source": [
    "Random Forest using SMOTE Data"
   ]
  },
  {
   "cell_type": "code",
   "execution_count": 586,
   "metadata": {},
   "outputs": [],
   "source": [
    "smote_model_rf = forest.fit(X_SMOTE,y_SMOTE)\n",
    "smote_y_pred_rf = smote_model_rf.predict(X_test)"
   ]
  },
  {
   "cell_type": "code",
   "execution_count": 587,
   "metadata": {},
   "outputs": [
    {
     "name": "stdout",
     "output_type": "stream",
     "text": [
      "Balanced Accuracy: 72.84%\n"
     ]
    }
   ],
   "source": [
    "print(f\"Balanced Accuracy: {round(metrics.balanced_accuracy_score(y_test, smote_y_pred_rf)*100,2)}%\")"
   ]
  },
  {
   "cell_type": "code",
   "execution_count": 588,
   "metadata": {},
   "outputs": [
    {
     "name": "stdout",
     "output_type": "stream",
     "text": [
      "              precision    recall  f1-score   support\n",
      "\n",
      "           0       0.94      0.96      0.95     10934\n",
      "           1       0.61      0.50      0.55      1423\n",
      "\n",
      "    accuracy                           0.91     12357\n",
      "   macro avg       0.77      0.73      0.75     12357\n",
      "weighted avg       0.90      0.91      0.90     12357\n",
      "\n"
     ]
    }
   ],
   "source": [
    "print(classification_report(y_test,smote_y_pred_rf))"
   ]
  },
  {
   "cell_type": "markdown",
   "metadata": {},
   "source": [
    "*Optimization*"
   ]
  },
  {
   "cell_type": "code",
   "execution_count": 679,
   "metadata": {},
   "outputs": [],
   "source": [
    "criterion = ['gini','entropy']\n",
    "n_estimators = [500,1000,1500]\n",
    "max_depth = [1, 5, 8]\n",
    "max_features = [3,4,5]\n",
    "min_samples_split = [0.1,0.4,0.8]\n",
    "min_samples_leaf = [1,3,5]\n",
    "class_weight = ['none','balanced']\n",
    "\n",
    "\n",
    "hyperF = dict( criterion = criterion,n_estimators = n_estimators, max_depth = max_depth,  \n",
    "               max_features = max_features,class_weight=class_weight,min_samples_leaf=min_samples_leaf,min_samples_split=min_samples_split)\n",
    "\n",
    "gridF = GridSearchCV(smote_model_rf, hyperF, cv = 4,n_jobs = -1,scoring = 'balanced_accuracy')\n",
    "smote_best_param_rf = gridF.fit(X_SMOTE,y_SMOTE)"
   ]
  },
  {
   "cell_type": "code",
   "execution_count": 680,
   "metadata": {},
   "outputs": [
    {
     "data": {
      "text/plain": [
       "{'class_weight': 'balanced',\n",
       " 'criterion': 'entropy',\n",
       " 'max_depth': 8,\n",
       " 'max_features': 5,\n",
       " 'min_samples_leaf': 1,\n",
       " 'min_samples_split': 0.1,\n",
       " 'n_estimators': 500}"
      ]
     },
     "execution_count": 680,
     "metadata": {},
     "output_type": "execute_result"
    }
   ],
   "source": [
    "smote_best_param_rf.best_params_"
   ]
  },
  {
   "cell_type": "code",
   "execution_count": 698,
   "metadata": {},
   "outputs": [],
   "source": [
    "smote_rf_tuned = RandomForestClassifier(criterion = 'entropy',n_estimators = 500, max_depth = 8,max_features = 5,min_samples_split = 0.1,min_samples_leaf=1, class_weight=\"balanced\")"
   ]
  },
  {
   "cell_type": "code",
   "execution_count": 699,
   "metadata": {},
   "outputs": [],
   "source": [
    "smote_model_rf_tuned = smote_rf_tuned.fit(X_SMOTE,y_SMOTE)"
   ]
  },
  {
   "cell_type": "code",
   "execution_count": 700,
   "metadata": {},
   "outputs": [],
   "source": [
    "smote_y_pred_rf_tuned = smote_model_rf_tuned.predict(X_test)"
   ]
  },
  {
   "cell_type": "code",
   "execution_count": 701,
   "metadata": {},
   "outputs": [
    {
     "name": "stdout",
     "output_type": "stream",
     "text": [
      "Accuracy: 76.59%\n"
     ]
    }
   ],
   "source": [
    "print(f\"Accuracy: {round(metrics.balanced_accuracy_score(y_test, smote_y_pred_rf_tuned)*100,2)}%\")"
   ]
  },
  {
   "cell_type": "code",
   "execution_count": 702,
   "metadata": {},
   "outputs": [
    {
     "name": "stdout",
     "output_type": "stream",
     "text": [
      "              precision    recall  f1-score   support\n",
      "\n",
      "           0       0.95      0.89      0.92     10934\n",
      "           1       0.44      0.64      0.52      1423\n",
      "\n",
      "    accuracy                           0.86     12357\n",
      "   macro avg       0.69      0.77      0.72     12357\n",
      "weighted avg       0.89      0.86      0.87     12357\n",
      "\n"
     ]
    }
   ],
   "source": [
    "print(classification_report(y_test,smote_y_pred_rf_tuned))"
   ]
  },
  {
   "cell_type": "code",
   "execution_count": 703,
   "metadata": {},
   "outputs": [
    {
     "name": "stdout",
     "output_type": "stream",
     "text": [
      "No Skill: ROC AUC=0.500\n",
      "Logistic: ROC AUC=0.905\n"
     ]
    },
    {
     "data": {
      "image/png": "[encoded data removed]",
      "text/plain": [
       "<Figure size 1152x576 with 1 Axes>"
      ]
     },
     "metadata": {
      "needs_background": "light"
     },
     "output_type": "display_data"
    }
   ],
   "source": [
    "# generate a no skill prediction (majority class)\n",
    "noskill_probs = [0 for _ in range(len(y_test))]\n",
    "\n",
    "# predict probabilities\n",
    "prob = smote_rf_tuned.predict_proba(X_test)\n",
    "# keep probabilities for the positive outcome only\n",
    "prob = prob[:, 1]\n",
    "# calculate scores\n",
    "noskill_auc = roc_auc_score(y_test, noskill_probs)\n",
    "auc = roc_auc_score(y_test, prob)\n",
    "# summarize scores\n",
    "print('No Skill: ROC AUC=%.3f' % (noskill_auc))\n",
    "print('Logistic: ROC AUC=%.3f' % (auc))\n",
    "# calculate roc curves\n",
    "noskill_fpr, noskill_tpr, _ = roc_curve(y_test, noskill_probs)\n",
    "fpr, tpr, _ = roc_curve(y_test, prob)\n",
    "# plot the roc curve for the model\n",
    "plt.figure(figsize=(16,8))\n",
    "plt.plot(noskill_fpr, noskill_tpr, linestyle='--', label='No Skill')\n",
    "plt.plot(fpr, tpr, marker='.', label='Logistic')\n",
    "# axis labels\n",
    "plt.xlabel('False Positive Rate')\n",
    "plt.ylabel('True Positive Rate')\n",
    "# show the legend\n",
    "plt.legend()\n",
    "# show the plot\n",
    "plt.show()"
   ]
  },
  {
   "cell_type": "markdown",
   "metadata": {},
   "source": [
    "# Gradient Boosting Machine"
   ]
  },
  {
   "cell_type": "markdown",
   "metadata": {},
   "source": [
    "Gradient Boosting using imbalanced data"
   ]
  },
  {
   "cell_type": "code",
   "execution_count": 704,
   "metadata": {},
   "outputs": [],
   "source": [
    "gb = GradientBoostingClassifier()\n",
    "model_gb = gb.fit(X_train,y_train)\n",
    "y_pred_gb = model_gb.predict(X_test)"
   ]
  },
  {
   "cell_type": "code",
   "execution_count": 705,
   "metadata": {},
   "outputs": [
    {
     "name": "stdout",
     "output_type": "stream",
     "text": [
      "Accuracy: 75.26%\n"
     ]
    }
   ],
   "source": [
    "print(f\"Accuracy: {round(metrics.balanced_accuracy_score(y_test, y_pred_gb)*100,2)}%\")"
   ]
  },
  {
   "cell_type": "code",
   "execution_count": 706,
   "metadata": {},
   "outputs": [
    {
     "name": "stdout",
     "output_type": "stream",
     "text": [
      "              precision    recall  f1-score   support\n",
      "\n",
      "           0       0.94      0.97      0.95     10934\n",
      "           1       0.67      0.54      0.60      1423\n",
      "\n",
      "    accuracy                           0.92     12357\n",
      "   macro avg       0.81      0.75      0.78     12357\n",
      "weighted avg       0.91      0.92      0.91     12357\n",
      "\n"
     ]
    }
   ],
   "source": [
    "print(classification_report(y_test,y_pred_gb))"
   ]
  },
  {
   "cell_type": "markdown",
   "metadata": {},
   "source": [
    "Gradient Boosting using SMOTE data"
   ]
  },
  {
   "cell_type": "code",
   "execution_count": 707,
   "metadata": {},
   "outputs": [],
   "source": [
    "smote_model_gb = gb.fit(X_SMOTE,y_SMOTE)\n",
    "smote_y_pred_gb = smote_model_gb.predict(X_test)"
   ]
  },
  {
   "cell_type": "code",
   "execution_count": 708,
   "metadata": {},
   "outputs": [
    {
     "name": "stdout",
     "output_type": "stream",
     "text": [
      "Balanced Accuracy: 80.97%\n"
     ]
    }
   ],
   "source": [
    "print(f\"Balanced Accuracy: {round(metrics.balanced_accuracy_score(y_test, smote_y_pred_gb)*100,2)}%\")"
   ]
  },
  {
   "cell_type": "code",
   "execution_count": 709,
   "metadata": {},
   "outputs": [
    {
     "name": "stdout",
     "output_type": "stream",
     "text": [
      "              precision    recall  f1-score   support\n",
      "\n",
      "           0       0.96      0.93      0.94     10934\n",
      "           1       0.56      0.69      0.62      1423\n",
      "\n",
      "    accuracy                           0.90     12357\n",
      "   macro avg       0.76      0.81      0.78     12357\n",
      "weighted avg       0.91      0.90      0.91     12357\n",
      "\n"
     ]
    }
   ],
   "source": [
    "print(classification_report(y_test,smote_y_pred_gb))"
   ]
  },
  {
   "cell_type": "markdown",
   "metadata": {},
   "source": [
    "Optimization"
   ]
  },
  {
   "cell_type": "code",
   "execution_count": null,
   "metadata": {},
   "outputs": [],
   "source": [
    "n_estimators = [500,1000,1500]\n",
    "max_features = [3,4,5]\n",
    "max_depth = [1,3,5,8]\n",
    "learning_rate = [0.1,0.3,0.5]\n",
    "min_samples_split = [0.1,0.4,0.8]\n",
    "min_samples_leaf = [1,3,5]\n",
    "\n",
    "\n",
    "hyper_gb = dict(n_estimators = n_estimators, max_depth = max_depth,  \n",
    "               max_features = max_features,learning_rate = learning_rate,min_samples_leaf=min_samples_leaf,\n",
    "               min_samples_split=min_samples_split)\n",
    "\n",
    "grid_gb = GridSearchCV(smote_model_gb, hyper_gb, cv = 4,n_jobs = -1,scoring = 'balanced_accuracy')\n",
    "\n",
    "smote_best_param_gb = grid_gb.fit(X_SMOTE,y_SMOTE)"
   ]
  },
  {
   "cell_type": "code",
   "execution_count": null,
   "metadata": {},
   "outputs": [],
   "source": [
    "smote_best_param_gb.best_params_"
   ]
  },
  {
   "cell_type": "code",
   "execution_count": 661,
   "metadata": {},
   "outputs": [],
   "source": [
    "smote_gb_tuned = GradientBoostingClassifier(n_estimators = 1000,max_features = 3,learning_rate = 0.3)"
   ]
  },
  {
   "cell_type": "code",
   "execution_count": 662,
   "metadata": {},
   "outputs": [],
   "source": [
    "smote_model_gb_tuned = smote_gb_tuned.fit(X_SMOTE,y_SMOTE)"
   ]
  },
  {
   "cell_type": "code",
   "execution_count": 663,
   "metadata": {},
   "outputs": [],
   "source": [
    "smote_y_pred_gb_tuned = smote_model_gb_tuned.predict(X_test)"
   ]
  },
  {
   "cell_type": "code",
   "execution_count": 664,
   "metadata": {},
   "outputs": [
    {
     "name": "stdout",
     "output_type": "stream",
     "text": [
      "Accuracy: 76.32%\n"
     ]
    }
   ],
   "source": [
    "print(f\"Accuracy: {round(metrics.balanced_accuracy_score(y_test, smote_y_pred_gb_tuned)*100,2)}%\")"
   ]
  },
  {
   "cell_type": "code",
   "execution_count": 644,
   "metadata": {},
   "outputs": [
    {
     "name": "stdout",
     "output_type": "stream",
     "text": [
      "              precision    recall  f1-score   support\n",
      "\n",
      "           0       0.93      0.96      0.94     10934\n",
      "           1       0.59      0.45      0.51      1423\n",
      "\n",
      "    accuracy                           0.90     12357\n",
      "   macro avg       0.76      0.71      0.73     12357\n",
      "weighted avg       0.89      0.90      0.89     12357\n",
      "\n"
     ]
    }
   ],
   "source": [
    "print(classification_report(y_test,smote_y_pred_gb_tuned))"
   ]
  },
  {
   "cell_type": "code",
   "execution_count": null,
   "metadata": {},
   "outputs": [],
   "source": [
    "# generate a no skill prediction (majority class)\n",
    "noskill_probs = [0 for _ in range(len(y_test))]\n",
    "\n",
    "# predict probabilities\n",
    "prob = smote_gb_tuned.predict_proba(X_test)\n",
    "# keep probabilities for the positive outcome only\n",
    "prob = prob[:, 1]\n",
    "# calculate scores\n",
    "noskill_auc = roc_auc_score(y_test, noskill_probs)\n",
    "auc = roc_auc_score(y_test, prob)\n",
    "# summarize scores\n",
    "print('No Skill: ROC AUC=%.3f' % (noskill_auc))\n",
    "print('Logistic: ROC AUC=%.3f' % (auc))\n",
    "# calculate roc curves\n",
    "noskill_fpr, noskill_tpr, _ = roc_curve(y_test, noskill_probs)\n",
    "fpr, tpr, _ = roc_curve(y_test, prob)\n",
    "# plot the roc curve for the model\n",
    "plt.figure(figsize=(16,8))\n",
    "plt.plot(noskill_fpr, noskill_tpr, linestyle='--', label='No Skill')\n",
    "plt.plot(fpr, tpr, marker='.', label='Logistic')\n",
    "# axis labels\n",
    "plt.xlabel('False Positive Rate')\n",
    "plt.ylabel('True Positive Rate')\n",
    "# show the legend\n",
    "plt.legend()\n",
    "# show the plot\n",
    "plt.show()"
   ]
  }
 ],
 "metadata": {
  "kernelspec": {
   "display_name": "Python 3",
   "language": "python",
   "name": "python3"
  },
  "language_info": {
   "codemirror_mode": {
    "name": "ipython",
    "version": 3
   },
   "file_extension": ".py",
   "mimetype": "text/x-python",
   "name": "python",
   "nbconvert_exporter": "python",
   "pygments_lexer": "ipython3",
   "version": "3.7.3"
  }
 },
 "nbformat": 4,
 "nbformat_minor": 2
}
